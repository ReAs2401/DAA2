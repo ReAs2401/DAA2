{
 "cells": [
  {
   "cell_type": "code",
   "execution_count": 20,
   "id": "97319378-b58f-4c9f-b0d8-fb91707b0330",
   "metadata": {},
   "outputs": [],
   "source": [
    "def getBagi(myList):\n",
    "    bagi= 100\n",
    "    for x in myList:\n",
    "        for y in x :\n",
    "            bagi /= y\n",
    "    return bagi"
   ]
  },
  {
   "cell_type": "code",
   "execution_count": 21,
   "id": "84b90ea5-33bc-4127-a269-9d76904126cb",
   "metadata": {},
   "outputs": [
    {
     "data": {
      "text/plain": [
       "2.0"
      ]
     },
     "execution_count": 21,
     "metadata": {},
     "output_type": "execute_result"
    }
   ],
   "source": [
    "getBagi([[25],[2]])"
   ]
  },
  {
   "cell_type": "code",
   "execution_count": 22,
   "id": "4ea632b1-9798-4059-994c-3cbad6518378",
   "metadata": {},
   "outputs": [
    {
     "data": {
      "text/plain": [
       "5.0"
      ]
     },
     "execution_count": 22,
     "metadata": {},
     "output_type": "execute_result"
    }
   ],
   "source": [
    "getBagi([[10],[2]])"
   ]
  },
  {
   "cell_type": "code",
   "execution_count": null,
   "id": "c6ba8808-a5d5-4ec9-8a95-73f244db9066",
   "metadata": {},
   "outputs": [],
   "source": []
  }
 ],
 "metadata": {
  "kernelspec": {
   "display_name": "Python 3 (ipykernel)",
   "language": "python",
   "name": "python3"
  },
  "language_info": {
   "codemirror_mode": {
    "name": "ipython",
    "version": 3
   },
   "file_extension": ".py",
   "mimetype": "text/x-python",
   "name": "python",
   "nbconvert_exporter": "python",
   "pygments_lexer": "ipython3",
   "version": "3.9.12"
  }
 },
 "nbformat": 4,
 "nbformat_minor": 5
}
