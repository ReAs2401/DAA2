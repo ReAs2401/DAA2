{
 "cells": [
  {
   "cell_type": "code",
   "execution_count": 1,
   "id": "27681432-ed98-490d-8f08-b259d1a6b452",
   "metadata": {},
   "outputs": [
    {
     "name": "stdout",
     "output_type": "stream",
     "text": [
      "Hello, World!\n"
     ]
    }
   ],
   "source": [
    "print(\"Hello, World!\")"
   ]
  },
  {
   "cell_type": "code",
   "execution_count": 2,
   "id": "24d6f13a-7e91-4510-83bb-812551d0f275",
   "metadata": {},
   "outputs": [
    {
     "name": "stdout",
     "output_type": "stream",
     "text": [
      "Nama Saya Andreas Yuan Saputro\n"
     ]
    }
   ],
   "source": [
    "print(\"Nama Saya Andreas Yuan Saputro\")"
   ]
  },
  {
   "cell_type": "code",
   "execution_count": 3,
   "id": "b958d03c-af10-4cfd-8710-ae7ab48faa22",
   "metadata": {},
   "outputs": [
    {
     "name": "stdout",
     "output_type": "stream",
     "text": [
      "NIM Saya 2021071041\n"
     ]
    }
   ],
   "source": [
    "print(\"NIM Saya 2021071041\")"
   ]
  },
  {
   "cell_type": "code",
   "execution_count": null,
   "id": "cd878b98-9555-4355-a71f-448866f018e4",
   "metadata": {},
   "outputs": [],
   "source": []
  }
 ],
 "metadata": {
  "kernelspec": {
   "display_name": "Python 3 (ipykernel)",
   "language": "python",
   "name": "python3"
  },
  "language_info": {
   "codemirror_mode": {
    "name": "ipython",
    "version": 3
   },
   "file_extension": ".py",
   "mimetype": "text/x-python",
   "name": "python",
   "nbconvert_exporter": "python",
   "pygments_lexer": "ipython3",
   "version": "3.9.12"
  }
 },
 "nbformat": 4,
 "nbformat_minor": 5
}
