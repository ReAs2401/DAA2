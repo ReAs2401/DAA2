{
 "cells": [
  {
   "cell_type": "code",
   "execution_count": 1,
   "id": "4d57b9e1-daf4-47c4-a018-6ee0b7cfbf1a",
   "metadata": {},
   "outputs": [],
   "source": [
    "def getKurang(myList):\n",
    "    kurang= 0\n",
    "    for x in myList:\n",
    "        for y in x :\n",
    "            kurang -= y\n",
    "    return kurang"
   ]
  },
  {
   "cell_type": "code",
   "execution_count": 2,
   "id": "ccef18ad-5c8a-48d7-b573-1c1a3b190432",
   "metadata": {},
   "outputs": [
    {
     "data": {
      "text/plain": [
       "-27"
      ]
     },
     "execution_count": 2,
     "metadata": {},
     "output_type": "execute_result"
    }
   ],
   "source": [
    "getKurang([[1,4,7],[2,5,8]])"
   ]
  },
  {
   "cell_type": "code",
   "execution_count": null,
   "id": "f7fb3d87-eb11-4545-9125-6e8d897cccad",
   "metadata": {},
   "outputs": [],
   "source": []
  }
 ],
 "metadata": {
  "kernelspec": {
   "display_name": "Python 3 (ipykernel)",
   "language": "python",
   "name": "python3"
  },
  "language_info": {
   "codemirror_mode": {
    "name": "ipython",
    "version": 3
   },
   "file_extension": ".py",
   "mimetype": "text/x-python",
   "name": "python",
   "nbconvert_exporter": "python",
   "pygments_lexer": "ipython3",
   "version": "3.9.12"
  }
 },
 "nbformat": 4,
 "nbformat_minor": 5
}
