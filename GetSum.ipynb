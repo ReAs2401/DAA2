{
 "cells": [
  {
   "cell_type": "code",
   "execution_count": 1,
   "id": "133694a7-bc06-4083-a600-5babff469a24",
   "metadata": {},
   "outputs": [],
   "source": [
    "def getSum(myList):\n",
    "    sum = 0\n",
    "    for item in myList:\n",
    "        sum = sum+item\n",
    "    return sum"
   ]
  },
  {
   "cell_type": "code",
   "execution_count": 2,
   "id": "3255dbe7-5be8-4177-a2c4-72b38b90760e",
   "metadata": {},
   "outputs": [
    {
     "data": {
      "text/plain": [
       "10"
      ]
     },
     "execution_count": 2,
     "metadata": {},
     "output_type": "execute_result"
    }
   ],
   "source": [
    "getSum([1,2,3,4])"
   ]
  },
  {
   "cell_type": "code",
   "execution_count": null,
   "id": "818eca41-ec3a-4177-a2cf-afbefffe2401",
   "metadata": {},
   "outputs": [],
   "source": []
  }
 ],
 "metadata": {
  "kernelspec": {
   "display_name": "Python 3 (ipykernel)",
   "language": "python",
   "name": "python3"
  },
  "language_info": {
   "codemirror_mode": {
    "name": "ipython",
    "version": 3
   },
   "file_extension": ".py",
   "mimetype": "text/x-python",
   "name": "python",
   "nbconvert_exporter": "python",
   "pygments_lexer": "ipython3",
   "version": "3.9.12"
  }
 },
 "nbformat": 4,
 "nbformat_minor": 5
}
