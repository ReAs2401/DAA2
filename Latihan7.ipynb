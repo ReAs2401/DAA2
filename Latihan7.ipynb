{
 "cells": [
  {
   "cell_type": "code",
   "execution_count": 1,
   "id": "ee102640-858f-4231-90f2-8a46c0c9e813",
   "metadata": {},
   "outputs": [],
   "source": [
    "def getKali(myList):\n",
    "    kali=1\n",
    "    for item in myList:\n",
    "        kali=kali*item\n",
    "    return kali"
   ]
  },
  {
   "cell_type": "code",
   "execution_count": 2,
   "id": "45362417-242e-4dbd-bee5-f9169497d2f5",
   "metadata": {},
   "outputs": [
    {
     "data": {
      "text/plain": [
       "48"
      ]
     },
     "execution_count": 2,
     "metadata": {},
     "output_type": "execute_result"
    }
   ],
   "source": [
    "getKali([2,4,6])"
   ]
  },
  {
   "cell_type": "code",
   "execution_count": 3,
   "id": "8144da38-4401-4f96-9ff1-0671fc8c1da5",
   "metadata": {},
   "outputs": [
    {
     "data": {
      "text/plain": [
       "960"
      ]
     },
     "execution_count": 3,
     "metadata": {},
     "output_type": "execute_result"
    }
   ],
   "source": [
    "getKali([4,6,5,8])"
   ]
  },
  {
   "cell_type": "code",
   "execution_count": null,
   "id": "d4e1ec44-1da2-4e50-8b40-de8b4c81295b",
   "metadata": {},
   "outputs": [],
   "source": []
  }
 ],
 "metadata": {
  "kernelspec": {
   "display_name": "Python 3 (ipykernel)",
   "language": "python",
   "name": "python3"
  },
  "language_info": {
   "codemirror_mode": {
    "name": "ipython",
    "version": 3
   },
   "file_extension": ".py",
   "mimetype": "text/x-python",
   "name": "python",
   "nbconvert_exporter": "python",
   "pygments_lexer": "ipython3",
   "version": "3.9.12"
  }
 },
 "nbformat": 4,
 "nbformat_minor": 5
}
