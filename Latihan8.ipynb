{
 "cells": [
  {
   "cell_type": "code",
   "execution_count": 1,
   "id": "904e6243-dc80-4c62-b7be-42f97a7feac0",
   "metadata": {},
   "outputs": [],
   "source": [
    "def getBagi(myList):\n",
    "    bagi=myList[0]\n",
    "    for item in myList:\n",
    "        bagi /= item\n",
    "    return bagi\n",
    "    "
   ]
  },
  {
   "cell_type": "code",
   "execution_count": 2,
   "id": "6544d15f-e388-4218-b66c-dcc92bc493ab",
   "metadata": {},
   "outputs": [
    {
     "data": {
      "text/plain": [
       "0.1"
      ]
     },
     "execution_count": 2,
     "metadata": {},
     "output_type": "execute_result"
    }
   ],
   "source": [
    "getBagi([100,5,2])"
   ]
  },
  {
   "cell_type": "code",
   "execution_count": null,
   "id": "2a861d8f-a969-4295-ab20-c698ebf59ffd",
   "metadata": {},
   "outputs": [],
   "source": []
  }
 ],
 "metadata": {
  "kernelspec": {
   "display_name": "Python 3 (ipykernel)",
   "language": "python",
   "name": "python3"
  },
  "language_info": {
   "codemirror_mode": {
    "name": "ipython",
    "version": 3
   },
   "file_extension": ".py",
   "mimetype": "text/x-python",
   "name": "python",
   "nbconvert_exporter": "python",
   "pygments_lexer": "ipython3",
   "version": "3.9.12"
  }
 },
 "nbformat": 4,
 "nbformat_minor": 5
}
