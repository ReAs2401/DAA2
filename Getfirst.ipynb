{
 "cells": [
  {
   "cell_type": "code",
   "execution_count": 1,
   "id": "808f18b6-b272-463d-9b5a-7d8cc3f34785",
   "metadata": {},
   "outputs": [],
   "source": [
    "def getFirst (myList):\n",
    "    return myList[0]"
   ]
  },
  {
   "cell_type": "code",
   "execution_count": 2,
   "id": "9a9bbf0e-996d-4c7e-9ba1-757d1b4f1aa4",
   "metadata": {},
   "outputs": [
    {
     "data": {
      "text/plain": [
       "1"
      ]
     },
     "execution_count": 2,
     "metadata": {},
     "output_type": "execute_result"
    }
   ],
   "source": [
    "getFirst([1,2,3])"
   ]
  },
  {
   "cell_type": "code",
   "execution_count": 3,
   "id": "b9c3fb57-8766-46ca-b300-1067fbba81c5",
   "metadata": {},
   "outputs": [
    {
     "data": {
      "text/plain": [
       "1"
      ]
     },
     "execution_count": 3,
     "metadata": {},
     "output_type": "execute_result"
    }
   ],
   "source": [
    "getFirst([1,2,3,4,5,6,7,8,9,10])"
   ]
  }
 ],
 "metadata": {
  "kernelspec": {
   "display_name": "Python 3 (ipykernel)",
   "language": "python",
   "name": "python3"
  },
  "language_info": {
   "codemirror_mode": {
    "name": "ipython",
    "version": 3
   },
   "file_extension": ".py",
   "mimetype": "text/x-python",
   "name": "python",
   "nbconvert_exporter": "python",
   "pygments_lexer": "ipython3",
   "version": "3.9.12"
  }
 },
 "nbformat": 4,
 "nbformat_minor": 5
}
